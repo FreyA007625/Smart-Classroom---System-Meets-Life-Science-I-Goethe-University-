{
 "cells": [
  {
   "cell_type": "markdown",
   "metadata": {},
   "source": [
    "# Smart Classroom"
   ]
  },
  {
   "cell_type": "markdown",
   "metadata": {},
   "source": [
    "<font color='blue'>by Trang Thanh Vu, Savita Gopalakrishna Pillay, Christian Bauer, Alexander Frey and Diyar Takak</font>"
   ]
  },
  {
   "cell_type": "markdown",
   "metadata": {},
   "source": [
    "# 1 Libraries"
   ]
  },
  {
   "cell_type": "code",
   "execution_count": 1,
   "metadata": {},
   "outputs": [],
   "source": [
    "import numpy as np              ## mathematical functions and more\n",
    "import matplotlib.pyplot as plt ## mainly intended for interactive plots and simple cases of programmatic plot generation\n",
    "import matplotlib.dates as mdates\n",
    "#import cv2                      ## opencv with algorithms for image processing and computer vision\n",
    "import os                       ## provides a way of using operating system dependent functionality.\n",
    "import random                   ## using randomization\n",
    "import pickle                   ## storing data (binary)\n",
    "import winsound                 ## sound \n",
    "import pandas as pd             ## data structures for data analysis, time series,and statistics\n",
    "import tensorflow as tf         ## machine learning\n",
    "import keras\n",
    "from tensorflow.keras import layers\n",
    "from unidecode import unidecode\n",
    "import seaborn as sns\n",
    "from sklearn.compose import ColumnTransformer\n",
    "from sklearn.model_selection import train_test_split\n",
    "from sklearn.linear_model import LinearRegression\n",
    "from sklearn.metrics import confusion_matrix \n",
    "from sklearn.svm import SVC\n",
    "from sklearn.tree import DecisionTreeClassifier \n",
    "from sklearn.neighbors import KNeighborsClassifier \n",
    "from functools import reduce"
   ]
  },
  {
   "cell_type": "markdown",
   "metadata": {},
   "source": [
    "# 2 Color Scheme"
   ]
  },
  {
   "cell_type": "code",
   "execution_count": 2,
   "metadata": {},
   "outputs": [],
   "source": [
    "colormap = {\"0\":\"#A0001B\",\n",
    "            \"1\":\"#FF8418\",\n",
    "            \"2\": \"#525252\",\n",
    "            \"3\": \"#1F77B4\",\n",
    "            \"4\":\"#25C254\",\n",
    "            \"5\":\"#B704D6\",\n",
    "            \"6\":\"#99D9EA\",\n",
    "            \"7\":\"#000000\",\n",
    "            \"8\":\"#F0D123\",\n",
    "            \"9\": \"#0797E3\",\n",
    "            }"
   ]
  },
  {
   "cell_type": "code",
   "execution_count": 3,
   "metadata": {},
   "outputs": [
    {
     "data": {
      "text/plain": [
       "[<matplotlib.lines.Line2D at 0x2075643bef0>]"
      ]
     },
     "execution_count": 3,
     "metadata": {},
     "output_type": "execute_result"
    },
    {
     "data": {
      "image/png": "[encoded data removed]",
      "text/plain": [
       "<Figure size 432x288 with 1 Axes>"
      ]
     },
     "metadata": {
      "needs_background": "light"
     },
     "output_type": "display_data"
    }
   ],
   "source": [
    "plt.plot([0,1], [1,1], color=colormap[\"0\"])\n",
    "plt.plot([0,1], [2,2], color=colormap[\"1\"])\n",
    "plt.plot([0,1], [3,3], color=colormap[\"2\"])\n",
    "plt.plot([0,1], [4,4], color=colormap[\"3\"])\n",
    "plt.plot([0,1], [5,5], color=colormap[\"4\"])\n",
    "plt.plot([0,1], [6,6], color=colormap[\"5\"])\n",
    "plt.plot([0,1], [7,7], color=colormap[\"6\"])\n",
    "plt.plot([0,1], [8,8], color=colormap[\"7\"])\n",
    "plt.plot([0,1], [9,9], color=colormap[\"8\"])\n",
    "plt.plot([0,1], [10,10], color=colormap[\"9\"])"
   ]
  },
  {
   "cell_type": "markdown",
   "metadata": {},
   "source": [
    "# 3 Data Preparation - Preprocessing"
   ]
  },
  {
   "cell_type": "markdown",
   "metadata": {},
   "source": [
    "## Load Data"
   ]
  },
  {
   "cell_type": "code",
   "execution_count": 4,
   "metadata": {},
   "outputs": [],
   "source": [
    "D1 = pd.read_csv(\"dataset/1.csv\", sep=';',decimal =',')\n",
    "D2 = pd.read_csv(\"dataset/2.csv\", sep=';',decimal =',')\n",
    "D3 = pd.read_csv(\"dataset/3.csv\", sep=';',decimal =',')\n",
    "D4 = pd.read_csv(\"dataset/4.csv\", sep=';',decimal =',')\n",
    "D5 = pd.read_csv(\"dataset/5.csv\", sep=';',decimal =',')\n",
    "D6 = pd.read_csv(\"dataset/6.csv\", sep=';',decimal =',')\n",
    "D7 = pd.read_csv(\"dataset/7.csv\", sep=';',decimal =',')\n",
    "D8 = pd.read_csv(\"dataset/8.csv\", sep=';',decimal =',')\n",
    "D9 = pd.read_csv(\"dataset/9.csv\", sep=';',decimal =',')\n",
    "D10 = pd.read_csv(\"dataset/10.csv\", sep=';',decimal =',') ##Cases 10- 18 was added afterwords to enrich the Data Set \n",
    "D11= pd.read_csv(\"dataset/11.csv\", sep=';',decimal =',')\n",
    "D12 = pd.read_csv(\"dataset/12.csv\", sep=';',decimal =',')\n",
    "D13 = pd.read_csv(\"dataset/13.csv\", sep=';',decimal =',')\n",
    "D14 = pd.read_csv(\"dataset/14.csv\", sep=';',decimal =',')\n",
    "D15 = pd.read_csv(\"dataset/15.csv\", sep=';',decimal =',')\n",
    "D16 = pd.read_csv(\"dataset/16.csv\", sep=';',decimal =',')\n",
    "D17 = pd.read_csv(\"dataset/17.csv\", sep=';',decimal =',')\n",
    "D18 = pd.read_csv(\"dataset/18.csv\", sep=';',decimal =',')"
   ]
  },
  {
   "cell_type": "markdown",
   "metadata": {},
   "source": [
    "## Case 1 : Lecture + Durschnittliche Dichte Fenster"
   ]
  },
  {
   "cell_type": "code",
   "execution_count": 5,
   "metadata": {},
   "outputs": [
    {
     "data": {
      "text/html": [
       "<div>\n",
       "<style scoped>\n",
       "    .dataframe tbody tr th:only-of-type {\n",
       "        vertical-align: middle;\n",
       "    }\n",
       "\n",
       "    .dataframe tbody tr th {\n",
       "        vertical-align: top;\n",
       "    }\n",
       "\n",
       "    .dataframe thead th {\n",
       "        text-align: right;\n",
       "    }\n",
       "</style>\n",
       "<table border=\"1\" class=\"dataframe\">\n",
       "  <thead>\n",
       "    <tr style=\"text-align: right;\">\n",
       "      <th></th>\n",
       "      <th>start</th>\n",
       "      <th>ende</th>\n",
       "      <th>duration[min]</th>\n",
       "      <th>room_val[m3]</th>\n",
       "      <th>amount</th>\n",
       "      <th>activity_name</th>\n",
       "      <th>activity_level</th>\n",
       "      <th>air_exchange_rate</th>\n",
       "      <th>air_exchange_name</th>\n",
       "      <th>co2_concentration[ppm]</th>\n",
       "    </tr>\n",
       "  </thead>\n",
       "  <tbody>\n",
       "    <tr>\n",
       "      <th>0</th>\n",
       "      <td>08:00</td>\n",
       "      <td>08:01</td>\n",
       "      <td>0</td>\n",
       "      <td>200</td>\n",
       "      <td>25</td>\n",
       "      <td>lecture</td>\n",
       "      <td>1.2</td>\n",
       "      <td>0.2</td>\n",
       "      <td>durschnittliche dichte fenster</td>\n",
       "      <td>644.372121</td>\n",
       "    </tr>\n",
       "    <tr>\n",
       "      <th>1</th>\n",
       "      <td>08:01</td>\n",
       "      <td>08:02</td>\n",
       "      <td>1</td>\n",
       "      <td>200</td>\n",
       "      <td>25</td>\n",
       "      <td>lecture</td>\n",
       "      <td>1.2</td>\n",
       "      <td>0.2</td>\n",
       "      <td>durschnittliche dichte fenster</td>\n",
       "      <td>688.596580</td>\n",
       "    </tr>\n",
       "    <tr>\n",
       "      <th>2</th>\n",
       "      <td>08:02</td>\n",
       "      <td>08:03</td>\n",
       "      <td>2</td>\n",
       "      <td>200</td>\n",
       "      <td>25</td>\n",
       "      <td>lecture</td>\n",
       "      <td>1.2</td>\n",
       "      <td>0.2</td>\n",
       "      <td>durschnittliche dichte fenster</td>\n",
       "      <td>732.673871</td>\n",
       "    </tr>\n",
       "    <tr>\n",
       "      <th>3</th>\n",
       "      <td>08:03</td>\n",
       "      <td>08:04</td>\n",
       "      <td>3</td>\n",
       "      <td>200</td>\n",
       "      <td>25</td>\n",
       "      <td>lecture</td>\n",
       "      <td>1.2</td>\n",
       "      <td>0.2</td>\n",
       "      <td>durschnittliche dichte fenster</td>\n",
       "      <td>776.604482</td>\n",
       "    </tr>\n",
       "    <tr>\n",
       "      <th>4</th>\n",
       "      <td>08:04</td>\n",
       "      <td>08:05</td>\n",
       "      <td>4</td>\n",
       "      <td>200</td>\n",
       "      <td>25</td>\n",
       "      <td>lecture</td>\n",
       "      <td>1.2</td>\n",
       "      <td>0.2</td>\n",
       "      <td>durschnittliche dichte fenster</td>\n",
       "      <td>820.388901</td>\n",
       "    </tr>\n",
       "  </tbody>\n",
       "</table>\n",
       "</div>"
      ],
      "text/plain": [
       "  start    ende  duration[min]  room_val[m3]  amount activity_name  \\\n",
       "0  08:00  08:01              0           200      25       lecture   \n",
       "1  08:01  08:02              1           200      25       lecture   \n",
       "2  08:02  08:03              2           200      25       lecture   \n",
       "3  08:03  08:04              3           200      25       lecture   \n",
       "4  08:04  08:05              4           200      25       lecture   \n",
       "\n",
       "   activity_level  air_exchange_rate                air_exchange_name  \\\n",
       "0             1.2                0.2  durschnittliche dichte fenster    \n",
       "1             1.2                0.2  durschnittliche dichte fenster    \n",
       "2             1.2                0.2  durschnittliche dichte fenster    \n",
       "3             1.2                0.2  durschnittliche dichte fenster    \n",
       "4             1.2                0.2  durschnittliche dichte fenster    \n",
       "\n",
       "   co2_concentration[ppm]  \n",
       "0              644.372121  \n",
       "1              688.596580  \n",
       "2              732.673871  \n",
       "3              776.604482  \n",
       "4              820.388901  "
      ]
     },
     "execution_count": 5,
     "metadata": {},
     "output_type": "execute_result"
    }
   ],
   "source": [
    "D1.head()"
   ]
  },
  {
   "cell_type": "markdown",
   "metadata": {},
   "source": [
    "## Case 2 : Lecture + 1 von 3 gekippt"
   ]
  },
  {
   "cell_type": "code",
   "execution_count": 6,
   "metadata": {},
   "outputs": [
    {
     "data": {
      "text/html": [
       "<div>\n",
       "<style scoped>\n",
       "    .dataframe tbody tr th:only-of-type {\n",
       "        vertical-align: middle;\n",
       "    }\n",
       "\n",
       "    .dataframe tbody tr th {\n",
       "        vertical-align: top;\n",
       "    }\n",
       "\n",
       "    .dataframe thead th {\n",
       "        text-align: right;\n",
       "    }\n",
       "</style>\n",
       "<table border=\"1\" class=\"dataframe\">\n",
       "  <thead>\n",
       "    <tr style=\"text-align: right;\">\n",
       "      <th></th>\n",
       "      <th>start</th>\n",
       "      <th>ende</th>\n",
       "      <th>duration[min]</th>\n",
       "      <th>room_val[m3]</th>\n",
       "      <th>amount</th>\n",
       "      <th>activity_name</th>\n",
       "      <th>activity_level</th>\n",
       "      <th>air_exchange_rate</th>\n",
       "      <th>air_exchange_name</th>\n",
       "      <th>co2_concentration[ppm]</th>\n",
       "    </tr>\n",
       "  </thead>\n",
       "  <tbody>\n",
       "    <tr>\n",
       "      <th>0</th>\n",
       "      <td>08:00</td>\n",
       "      <td>08:01</td>\n",
       "      <td>0</td>\n",
       "      <td>200</td>\n",
       "      <td>25</td>\n",
       "      <td>lecture</td>\n",
       "      <td>1.2</td>\n",
       "      <td>1</td>\n",
       "      <td>1 von 3 gekippt</td>\n",
       "      <td>600.000000</td>\n",
       "    </tr>\n",
       "    <tr>\n",
       "      <th>1</th>\n",
       "      <td>08:01</td>\n",
       "      <td>08:02</td>\n",
       "      <td>1</td>\n",
       "      <td>200</td>\n",
       "      <td>25</td>\n",
       "      <td>lecture</td>\n",
       "      <td>1.2</td>\n",
       "      <td>1</td>\n",
       "      <td>1 von 3 gekippt</td>\n",
       "      <td>641.433213</td>\n",
       "    </tr>\n",
       "    <tr>\n",
       "      <th>2</th>\n",
       "      <td>08:02</td>\n",
       "      <td>08:03</td>\n",
       "      <td>2</td>\n",
       "      <td>200</td>\n",
       "      <td>25</td>\n",
       "      <td>lecture</td>\n",
       "      <td>1.2</td>\n",
       "      <td>1</td>\n",
       "      <td>1 von 3 gekippt</td>\n",
       "      <td>682.181595</td>\n",
       "    </tr>\n",
       "    <tr>\n",
       "      <th>3</th>\n",
       "      <td>08:03</td>\n",
       "      <td>08:04</td>\n",
       "      <td>3</td>\n",
       "      <td>200</td>\n",
       "      <td>25</td>\n",
       "      <td>lecture</td>\n",
       "      <td>1.2</td>\n",
       "      <td>1</td>\n",
       "      <td>1 von 3 gekippt</td>\n",
       "      <td>722.256465</td>\n",
       "    </tr>\n",
       "    <tr>\n",
       "      <th>4</th>\n",
       "      <td>08:04</td>\n",
       "      <td>08:05</td>\n",
       "      <td>4</td>\n",
       "      <td>200</td>\n",
       "      <td>25</td>\n",
       "      <td>lecture</td>\n",
       "      <td>1.2</td>\n",
       "      <td>1</td>\n",
       "      <td>1 von 3 gekippt</td>\n",
       "      <td>761.668956</td>\n",
       "    </tr>\n",
       "  </tbody>\n",
       "</table>\n",
       "</div>"
      ],
      "text/plain": [
       "  start    ende  duration[min]  room_val[m3]  amount activity_name  \\\n",
       "0  08:00  08:01              0           200      25       lecture   \n",
       "1  08:01  08:02              1           200      25       lecture   \n",
       "2  08:02  08:03              2           200      25       lecture   \n",
       "3  08:03  08:04              3           200      25       lecture   \n",
       "4  08:04  08:05              4           200      25       lecture   \n",
       "\n",
       "   activity_level  air_exchange_rate air_exchange_name  co2_concentration[ppm]  \n",
       "0             1.2                  1  1 von 3 gekippt               600.000000  \n",
       "1             1.2                  1  1 von 3 gekippt               641.433213  \n",
       "2             1.2                  1  1 von 3 gekippt               682.181595  \n",
       "3             1.2                  1  1 von 3 gekippt               722.256465  \n",
       "4             1.2                  1  1 von 3 gekippt               761.668956  "
      ]
     },
     "execution_count": 6,
     "metadata": {},
     "output_type": "execute_result"
    }
   ],
   "source": [
    "D2.head()"
   ]
  },
  {
   "cell_type": "markdown",
   "metadata": {},
   "source": [
    "## Case 3 : Lecture + Alle Fenster gekippt"
   ]
  },
  {
   "cell_type": "code",
   "execution_count": 7,
   "metadata": {},
   "outputs": [
    {
     "data": {
      "text/html": [
       "<div>\n",
       "<style scoped>\n",
       "    .dataframe tbody tr th:only-of-type {\n",
       "        vertical-align: middle;\n",
       "    }\n",
       "\n",
       "    .dataframe tbody tr th {\n",
       "        vertical-align: top;\n",
       "    }\n",
       "\n",
       "    .dataframe thead th {\n",
       "        text-align: right;\n",
       "    }\n",
       "</style>\n",
       "<table border=\"1\" class=\"dataframe\">\n",
       "  <thead>\n",
       "    <tr style=\"text-align: right;\">\n",
       "      <th></th>\n",
       "      <th>start</th>\n",
       "      <th>ende</th>\n",
       "      <th>duration[min]</th>\n",
       "      <th>room_val[m3]</th>\n",
       "      <th>amount</th>\n",
       "      <th>activity_name</th>\n",
       "      <th>activity_level</th>\n",
       "      <th>air_exchange_rate</th>\n",
       "      <th>air_exchange_name</th>\n",
       "      <th>co2_concentration[ppm]</th>\n",
       "    </tr>\n",
       "  </thead>\n",
       "  <tbody>\n",
       "    <tr>\n",
       "      <th>0</th>\n",
       "      <td>08:00</td>\n",
       "      <td>08:01</td>\n",
       "      <td>0</td>\n",
       "      <td>200</td>\n",
       "      <td>25</td>\n",
       "      <td>lecture</td>\n",
       "      <td>1.2</td>\n",
       "      <td>2</td>\n",
       "      <td>Alle Fenster gekippt</td>\n",
       "      <td>600.000000</td>\n",
       "    </tr>\n",
       "    <tr>\n",
       "      <th>1</th>\n",
       "      <td>08:01</td>\n",
       "      <td>08:02</td>\n",
       "      <td>1</td>\n",
       "      <td>200</td>\n",
       "      <td>25</td>\n",
       "      <td>lecture</td>\n",
       "      <td>1.2</td>\n",
       "      <td>2</td>\n",
       "      <td>Alle Fenster gekippt</td>\n",
       "      <td>637.812407</td>\n",
       "    </tr>\n",
       "    <tr>\n",
       "      <th>2</th>\n",
       "      <td>08:02</td>\n",
       "      <td>08:03</td>\n",
       "      <td>2</td>\n",
       "      <td>200</td>\n",
       "      <td>25</td>\n",
       "      <td>lecture</td>\n",
       "      <td>1.2</td>\n",
       "      <td>2</td>\n",
       "      <td>Alle Fenster gekippt</td>\n",
       "      <td>674.385177</td>\n",
       "    </tr>\n",
       "    <tr>\n",
       "      <th>3</th>\n",
       "      <td>08:03</td>\n",
       "      <td>08:04</td>\n",
       "      <td>3</td>\n",
       "      <td>200</td>\n",
       "      <td>25</td>\n",
       "      <td>lecture</td>\n",
       "      <td>1.2</td>\n",
       "      <td>2</td>\n",
       "      <td>Alle Fenster gekippt</td>\n",
       "      <td>709.758948</td>\n",
       "    </tr>\n",
       "    <tr>\n",
       "      <th>4</th>\n",
       "      <td>08:04</td>\n",
       "      <td>08:05</td>\n",
       "      <td>4</td>\n",
       "      <td>200</td>\n",
       "      <td>25</td>\n",
       "      <td>lecture</td>\n",
       "      <td>1.2</td>\n",
       "      <td>2</td>\n",
       "      <td>Alle Fenster gekippt</td>\n",
       "      <td>743.973029</td>\n",
       "    </tr>\n",
       "  </tbody>\n",
       "</table>\n",
       "</div>"
      ],
      "text/plain": [
       "  start    ende  duration[min]  room_val[m3]  amount activity_name  \\\n",
       "0  08:00  08:01              0           200      25       lecture   \n",
       "1  08:01  08:02              1           200      25       lecture   \n",
       "2  08:02  08:03              2           200      25       lecture   \n",
       "3  08:03  08:04              3           200      25       lecture   \n",
       "4  08:04  08:05              4           200      25       lecture   \n",
       "\n",
       "   activity_level  air_exchange_rate     air_exchange_name  \\\n",
       "0             1.2                  2  Alle Fenster gekippt   \n",
       "1             1.2                  2  Alle Fenster gekippt   \n",
       "2             1.2                  2  Alle Fenster gekippt   \n",
       "3             1.2                  2  Alle Fenster gekippt   \n",
       "4             1.2                  2  Alle Fenster gekippt   \n",
       "\n",
       "   co2_concentration[ppm]  \n",
       "0              600.000000  \n",
       "1              637.812407  \n",
       "2              674.385177  \n",
       "3              709.758948  \n",
       "4              743.973029  "
      ]
     },
     "execution_count": 7,
     "metadata": {},
     "output_type": "execute_result"
    }
   ],
   "source": [
    "D3.head()"
   ]
  },
  {
   "cell_type": "markdown",
   "metadata": {},
   "source": [
    "## Case 4 : Discussion + durschnittliche dichte fenster\t"
   ]
  },
  {
   "cell_type": "code",
   "execution_count": 8,
   "metadata": {},
   "outputs": [
    {
     "data": {
      "text/html": [
       "<div>\n",
       "<style scoped>\n",
       "    .dataframe tbody tr th:only-of-type {\n",
       "        vertical-align: middle;\n",
       "    }\n",
       "\n",
       "    .dataframe tbody tr th {\n",
       "        vertical-align: top;\n",
       "    }\n",
       "\n",
       "    .dataframe thead th {\n",
       "        text-align: right;\n",
       "    }\n",
       "</style>\n",
       "<table border=\"1\" class=\"dataframe\">\n",
       "  <thead>\n",
       "    <tr style=\"text-align: right;\">\n",
       "      <th></th>\n",
       "      <th>start</th>\n",
       "      <th>ende</th>\n",
       "      <th>duration[min]</th>\n",
       "      <th>room_val[m3]</th>\n",
       "      <th>amount</th>\n",
       "      <th>activity_name</th>\n",
       "      <th>activity_level</th>\n",
       "      <th>air_exchange_rate</th>\n",
       "      <th>air_exchange_name</th>\n",
       "      <th>co2_concentration[ppm]</th>\n",
       "    </tr>\n",
       "  </thead>\n",
       "  <tbody>\n",
       "    <tr>\n",
       "      <th>0</th>\n",
       "      <td>08:00</td>\n",
       "      <td>08:01</td>\n",
       "      <td>0</td>\n",
       "      <td>200</td>\n",
       "      <td>25</td>\n",
       "      <td>discussion</td>\n",
       "      <td>2.1</td>\n",
       "      <td>0.2</td>\n",
       "      <td>durschnittliche dichte fenster</td>\n",
       "      <td>600.000000</td>\n",
       "    </tr>\n",
       "    <tr>\n",
       "      <th>1</th>\n",
       "      <td>08:01</td>\n",
       "      <td>08:02</td>\n",
       "      <td>1</td>\n",
       "      <td>200</td>\n",
       "      <td>25</td>\n",
       "      <td>discussion</td>\n",
       "      <td>2.1</td>\n",
       "      <td>0.2</td>\n",
       "      <td>durschnittliche dichte fenster</td>\n",
       "      <td>678.226973</td>\n",
       "    </tr>\n",
       "    <tr>\n",
       "      <th>2</th>\n",
       "      <td>08:02</td>\n",
       "      <td>08:03</td>\n",
       "      <td>2</td>\n",
       "      <td>200</td>\n",
       "      <td>25</td>\n",
       "      <td>discussion</td>\n",
       "      <td>2.1</td>\n",
       "      <td>0.2</td>\n",
       "      <td>durschnittliche dichte fenster</td>\n",
       "      <td>756.193624</td>\n",
       "    </tr>\n",
       "    <tr>\n",
       "      <th>3</th>\n",
       "      <td>08:03</td>\n",
       "      <td>08:04</td>\n",
       "      <td>3</td>\n",
       "      <td>200</td>\n",
       "      <td>25</td>\n",
       "      <td>discussion</td>\n",
       "      <td>2.1</td>\n",
       "      <td>0.2</td>\n",
       "      <td>durschnittliche dichte fenster</td>\n",
       "      <td>833.900819</td>\n",
       "    </tr>\n",
       "    <tr>\n",
       "      <th>4</th>\n",
       "      <td>08:04</td>\n",
       "      <td>08:05</td>\n",
       "      <td>4</td>\n",
       "      <td>200</td>\n",
       "      <td>25</td>\n",
       "      <td>discussion</td>\n",
       "      <td>2.1</td>\n",
       "      <td>0.2</td>\n",
       "      <td>durschnittliche dichte fenster</td>\n",
       "      <td>911.349421</td>\n",
       "    </tr>\n",
       "  </tbody>\n",
       "</table>\n",
       "</div>"
      ],
      "text/plain": [
       "  start    ende  duration[min]  room_val[m3]  amount activity_name  \\\n",
       "0  08:00  08:01              0           200      25    discussion   \n",
       "1  08:01  08:02              1           200      25    discussion   \n",
       "2  08:02  08:03              2           200      25    discussion   \n",
       "3  08:03  08:04              3           200      25    discussion   \n",
       "4  08:04  08:05              4           200      25    discussion   \n",
       "\n",
       "   activity_level  air_exchange_rate                air_exchange_name  \\\n",
       "0             2.1                0.2  durschnittliche dichte fenster    \n",
       "1             2.1                0.2  durschnittliche dichte fenster    \n",
       "2             2.1                0.2  durschnittliche dichte fenster    \n",
       "3             2.1                0.2  durschnittliche dichte fenster    \n",
       "4             2.1                0.2  durschnittliche dichte fenster    \n",
       "\n",
       "   co2_concentration[ppm]  \n",
       "0              600.000000  \n",
       "1              678.226973  \n",
       "2              756.193624  \n",
       "3              833.900819  \n",
       "4              911.349421  "
      ]
     },
     "execution_count": 8,
     "metadata": {},
     "output_type": "execute_result"
    }
   ],
   "source": [
    "D4.head()"
   ]
  },
  {
   "cell_type": "markdown",
   "metadata": {},
   "source": [
    "## Case 5 : Discussion + 1 von 3 gekippt"
   ]
  },
  {
   "cell_type": "code",
   "execution_count": 9,
   "metadata": {},
   "outputs": [
    {
     "data": {
      "text/html": [
       "<div>\n",
       "<style scoped>\n",
       "    .dataframe tbody tr th:only-of-type {\n",
       "        vertical-align: middle;\n",
       "    }\n",
       "\n",
       "    .dataframe tbody tr th {\n",
       "        vertical-align: top;\n",
       "    }\n",
       "\n",
       "    .dataframe thead th {\n",
       "        text-align: right;\n",
       "    }\n",
       "</style>\n",
       "<table border=\"1\" class=\"dataframe\">\n",
       "  <thead>\n",
       "    <tr style=\"text-align: right;\">\n",
       "      <th></th>\n",
       "      <th>start</th>\n",
       "      <th>ende</th>\n",
       "      <th>duration[min]</th>\n",
       "      <th>room_val[m3]</th>\n",
       "      <th>amount</th>\n",
       "      <th>activity_name</th>\n",
       "      <th>activity_level</th>\n",
       "      <th>air_exchange_rate</th>\n",
       "      <th>air_exchange_name</th>\n",
       "      <th>co2_concentration[ppm]</th>\n",
       "    </tr>\n",
       "  </thead>\n",
       "  <tbody>\n",
       "    <tr>\n",
       "      <th>0</th>\n",
       "      <td>08:00</td>\n",
       "      <td>08:01</td>\n",
       "      <td>0</td>\n",
       "      <td>200</td>\n",
       "      <td>25</td>\n",
       "      <td>discussion</td>\n",
       "      <td>2.1</td>\n",
       "      <td>1</td>\n",
       "      <td>1 von 3 gekippt</td>\n",
       "      <td>600.000000</td>\n",
       "    </tr>\n",
       "    <tr>\n",
       "      <th>1</th>\n",
       "      <td>08:01</td>\n",
       "      <td>08:02</td>\n",
       "      <td>1</td>\n",
       "      <td>200</td>\n",
       "      <td>25</td>\n",
       "      <td>discussion</td>\n",
       "      <td>2.1</td>\n",
       "      <td>1</td>\n",
       "      <td>1 von 3 gekippt</td>\n",
       "      <td>675.063491</td>\n",
       "    </tr>\n",
       "    <tr>\n",
       "      <th>2</th>\n",
       "      <td>08:02</td>\n",
       "      <td>08:03</td>\n",
       "      <td>2</td>\n",
       "      <td>200</td>\n",
       "      <td>25</td>\n",
       "      <td>discussion</td>\n",
       "      <td>2.1</td>\n",
       "      <td>1</td>\n",
       "      <td>1 von 3 gekippt</td>\n",
       "      <td>748.886291</td>\n",
       "    </tr>\n",
       "    <tr>\n",
       "      <th>3</th>\n",
       "      <td>08:03</td>\n",
       "      <td>08:04</td>\n",
       "      <td>3</td>\n",
       "      <td>200</td>\n",
       "      <td>25</td>\n",
       "      <td>discussion</td>\n",
       "      <td>2.1</td>\n",
       "      <td>1</td>\n",
       "      <td>1 von 3 gekippt</td>\n",
       "      <td>821.488908</td>\n",
       "    </tr>\n",
       "    <tr>\n",
       "      <th>4</th>\n",
       "      <td>08:04</td>\n",
       "      <td>08:05</td>\n",
       "      <td>4</td>\n",
       "      <td>200</td>\n",
       "      <td>25</td>\n",
       "      <td>discussion</td>\n",
       "      <td>2.1</td>\n",
       "      <td>1</td>\n",
       "      <td>1 von 3 gekippt</td>\n",
       "      <td>892.891509</td>\n",
       "    </tr>\n",
       "  </tbody>\n",
       "</table>\n",
       "</div>"
      ],
      "text/plain": [
       "  start    ende  duration[min]  room_val[m3]  amount activity_name  \\\n",
       "0  08:00  08:01              0           200      25    discussion   \n",
       "1  08:01  08:02              1           200      25    discussion   \n",
       "2  08:02  08:03              2           200      25    discussion   \n",
       "3  08:03  08:04              3           200      25    discussion   \n",
       "4  08:04  08:05              4           200      25    discussion   \n",
       "\n",
       "   activity_level  air_exchange_rate air_exchange_name  co2_concentration[ppm]  \n",
       "0             2.1                  1  1 von 3 gekippt               600.000000  \n",
       "1             2.1                  1  1 von 3 gekippt               675.063491  \n",
       "2             2.1                  1  1 von 3 gekippt               748.886291  \n",
       "3             2.1                  1  1 von 3 gekippt               821.488908  \n",
       "4             2.1                  1  1 von 3 gekippt               892.891509  "
      ]
     },
     "execution_count": 9,
     "metadata": {},
     "output_type": "execute_result"
    }
   ],
   "source": [
    "D5.head()"
   ]
  },
  {
   "cell_type": "markdown",
   "metadata": {},
   "source": [
    "## Case 6 : Discussion + Alle Fenster gekippt"
   ]
  },
  {
   "cell_type": "code",
   "execution_count": 10,
   "metadata": {},
   "outputs": [
    {
     "data": {
      "text/html": [
       "<div>\n",
       "<style scoped>\n",
       "    .dataframe tbody tr th:only-of-type {\n",
       "        vertical-align: middle;\n",
       "    }\n",
       "\n",
       "    .dataframe tbody tr th {\n",
       "        vertical-align: top;\n",
       "    }\n",
       "\n",
       "    .dataframe thead th {\n",
       "        text-align: right;\n",
       "    }\n",
       "</style>\n",
       "<table border=\"1\" class=\"dataframe\">\n",
       "  <thead>\n",
       "    <tr style=\"text-align: right;\">\n",
       "      <th></th>\n",
       "      <th>start</th>\n",
       "      <th>ende</th>\n",
       "      <th>duration[min]</th>\n",
       "      <th>room_val[m3]</th>\n",
       "      <th>amount</th>\n",
       "      <th>activity_name</th>\n",
       "      <th>activity_level</th>\n",
       "      <th>air_exchange_rate</th>\n",
       "      <th>air_exchange_name</th>\n",
       "      <th>co2_concentration[ppm]</th>\n",
       "    </tr>\n",
       "  </thead>\n",
       "  <tbody>\n",
       "    <tr>\n",
       "      <th>0</th>\n",
       "      <td>08:00</td>\n",
       "      <td>08:01</td>\n",
       "      <td>0</td>\n",
       "      <td>200</td>\n",
       "      <td>25</td>\n",
       "      <td>discussion</td>\n",
       "      <td>2.1</td>\n",
       "      <td>2</td>\n",
       "      <td>Alle Fenster gekippt</td>\n",
       "      <td>600.000000</td>\n",
       "    </tr>\n",
       "    <tr>\n",
       "      <th>1</th>\n",
       "      <td>08:01</td>\n",
       "      <td>08:02</td>\n",
       "      <td>1</td>\n",
       "      <td>200</td>\n",
       "      <td>25</td>\n",
       "      <td>discussion</td>\n",
       "      <td>2.1</td>\n",
       "      <td>2</td>\n",
       "      <td>Alle Fenster gekippt</td>\n",
       "      <td>671.164756</td>\n",
       "    </tr>\n",
       "    <tr>\n",
       "      <th>2</th>\n",
       "      <td>08:02</td>\n",
       "      <td>08:03</td>\n",
       "      <td>2</td>\n",
       "      <td>200</td>\n",
       "      <td>25</td>\n",
       "      <td>discussion</td>\n",
       "      <td>2.1</td>\n",
       "      <td>2</td>\n",
       "      <td>Alle Fenster gekippt</td>\n",
       "      <td>739.996453</td>\n",
       "    </tr>\n",
       "    <tr>\n",
       "      <th>3</th>\n",
       "      <td>08:03</td>\n",
       "      <td>08:04</td>\n",
       "      <td>3</td>\n",
       "      <td>200</td>\n",
       "      <td>25</td>\n",
       "      <td>discussion</td>\n",
       "      <td>2.1</td>\n",
       "      <td>2</td>\n",
       "      <td>Alle Fenster gekippt</td>\n",
       "      <td>806.571579</td>\n",
       "    </tr>\n",
       "    <tr>\n",
       "      <th>4</th>\n",
       "      <td>08:04</td>\n",
       "      <td>08:05</td>\n",
       "      <td>4</td>\n",
       "      <td>200</td>\n",
       "      <td>25</td>\n",
       "      <td>discussion</td>\n",
       "      <td>2.1</td>\n",
       "      <td>2</td>\n",
       "      <td>Alle Fenster gekippt</td>\n",
       "      <td>870.964113</td>\n",
       "    </tr>\n",
       "  </tbody>\n",
       "</table>\n",
       "</div>"
      ],
      "text/plain": [
       "  start    ende  duration[min]  room_val[m3]  amount activity_name  \\\n",
       "0  08:00  08:01              0           200      25    discussion   \n",
       "1  08:01  08:02              1           200      25    discussion   \n",
       "2  08:02  08:03              2           200      25    discussion   \n",
       "3  08:03  08:04              3           200      25    discussion   \n",
       "4  08:04  08:05              4           200      25    discussion   \n",
       "\n",
       "   activity_level  air_exchange_rate     air_exchange_name  \\\n",
       "0             2.1                  2  Alle Fenster gekippt   \n",
       "1             2.1                  2  Alle Fenster gekippt   \n",
       "2             2.1                  2  Alle Fenster gekippt   \n",
       "3             2.1                  2  Alle Fenster gekippt   \n",
       "4             2.1                  2  Alle Fenster gekippt   \n",
       "\n",
       "   co2_concentration[ppm]  \n",
       "0              600.000000  \n",
       "1              671.164756  \n",
       "2              739.996453  \n",
       "3              806.571579  \n",
       "4              870.964113  "
      ]
     },
     "execution_count": 10,
     "metadata": {},
     "output_type": "execute_result"
    }
   ],
   "source": [
    "D6.head()"
   ]
  },
  {
   "cell_type": "markdown",
   "metadata": {},
   "source": [
    "## Case 7 : Groupwork + durschnittliche dichte fenster"
   ]
  },
  {
   "cell_type": "code",
   "execution_count": 11,
   "metadata": {},
   "outputs": [
    {
     "data": {
      "text/html": [
       "<div>\n",
       "<style scoped>\n",
       "    .dataframe tbody tr th:only-of-type {\n",
       "        vertical-align: middle;\n",
       "    }\n",
       "\n",
       "    .dataframe tbody tr th {\n",
       "        vertical-align: top;\n",
       "    }\n",
       "\n",
       "    .dataframe thead th {\n",
       "        text-align: right;\n",
       "    }\n",
       "</style>\n",
       "<table border=\"1\" class=\"dataframe\">\n",
       "  <thead>\n",
       "    <tr style=\"text-align: right;\">\n",
       "      <th></th>\n",
       "      <th>start</th>\n",
       "      <th>ende</th>\n",
       "      <th>duration[min]</th>\n",
       "      <th>room_val[m3]</th>\n",
       "      <th>amount</th>\n",
       "      <th>activity_name</th>\n",
       "      <th>activity_level</th>\n",
       "      <th>air_exchange_rate</th>\n",
       "      <th>air_exchange_name</th>\n",
       "      <th>co2_concentration[ppm]</th>\n",
       "    </tr>\n",
       "  </thead>\n",
       "  <tbody>\n",
       "    <tr>\n",
       "      <th>0</th>\n",
       "      <td>08:00</td>\n",
       "      <td>08:01</td>\n",
       "      <td>0</td>\n",
       "      <td>200</td>\n",
       "      <td>25</td>\n",
       "      <td>exam</td>\n",
       "      <td>4.8</td>\n",
       "      <td>0.2</td>\n",
       "      <td>durschnittliche dichte fenster</td>\n",
       "      <td>600.000000</td>\n",
       "    </tr>\n",
       "    <tr>\n",
       "      <th>1</th>\n",
       "      <td>08:01</td>\n",
       "      <td>08:02</td>\n",
       "      <td>1</td>\n",
       "      <td>200</td>\n",
       "      <td>25</td>\n",
       "      <td>exam</td>\n",
       "      <td>4.8</td>\n",
       "      <td>0.2</td>\n",
       "      <td>durschnittliche dichte fenster</td>\n",
       "      <td>779.331964</td>\n",
       "    </tr>\n",
       "    <tr>\n",
       "      <th>2</th>\n",
       "      <td>08:02</td>\n",
       "      <td>08:03</td>\n",
       "      <td>2</td>\n",
       "      <td>200</td>\n",
       "      <td>25</td>\n",
       "      <td>exam</td>\n",
       "      <td>4.8</td>\n",
       "      <td>0.2</td>\n",
       "      <td>durschnittliche dichte fenster</td>\n",
       "      <td>958.067149</td>\n",
       "    </tr>\n",
       "    <tr>\n",
       "      <th>3</th>\n",
       "      <td>08:03</td>\n",
       "      <td>08:04</td>\n",
       "      <td>3</td>\n",
       "      <td>200</td>\n",
       "      <td>25</td>\n",
       "      <td>exam</td>\n",
       "      <td>4.8</td>\n",
       "      <td>0.2</td>\n",
       "      <td>durschnittliche dichte fenster</td>\n",
       "      <td>1136.207543</td>\n",
       "    </tr>\n",
       "    <tr>\n",
       "      <th>4</th>\n",
       "      <td>08:04</td>\n",
       "      <td>08:05</td>\n",
       "      <td>4</td>\n",
       "      <td>200</td>\n",
       "      <td>25</td>\n",
       "      <td>exam</td>\n",
       "      <td>4.8</td>\n",
       "      <td>0.2</td>\n",
       "      <td>durschnittliche dichte fenster</td>\n",
       "      <td>1313.755124</td>\n",
       "    </tr>\n",
       "  </tbody>\n",
       "</table>\n",
       "</div>"
      ],
      "text/plain": [
       "  start    ende  duration[min]  room_val[m3]  amount activity_name  \\\n",
       "0  08:00  08:01              0           200      25          exam   \n",
       "1  08:01  08:02              1           200      25          exam   \n",
       "2  08:02  08:03              2           200      25          exam   \n",
       "3  08:03  08:04              3           200      25          exam   \n",
       "4  08:04  08:05              4           200      25          exam   \n",
       "\n",
       "   activity_level  air_exchange_rate                air_exchange_name  \\\n",
       "0             4.8                0.2  durschnittliche dichte fenster    \n",
       "1             4.8                0.2  durschnittliche dichte fenster    \n",
       "2             4.8                0.2  durschnittliche dichte fenster    \n",
       "3             4.8                0.2  durschnittliche dichte fenster    \n",
       "4             4.8                0.2  durschnittliche dichte fenster    \n",
       "\n",
       "   co2_concentration[ppm]  \n",
       "0              600.000000  \n",
       "1              779.331964  \n",
       "2              958.067149  \n",
       "3             1136.207543  \n",
       "4             1313.755124  "
      ]
     },
     "execution_count": 11,
     "metadata": {},
     "output_type": "execute_result"
    }
   ],
   "source": [
    "D7.head()"
   ]
  },
  {
   "cell_type": "markdown",
   "metadata": {},
   "source": [
    "## Case 8 : Groupwork + 1 von 3 gekippt"
   ]
  },
  {
   "cell_type": "code",
   "execution_count": 12,
   "metadata": {},
   "outputs": [
    {
     "data": {
      "text/html": [
       "<div>\n",
       "<style scoped>\n",
       "    .dataframe tbody tr th:only-of-type {\n",
       "        vertical-align: middle;\n",
       "    }\n",
       "\n",
       "    .dataframe tbody tr th {\n",
       "        vertical-align: top;\n",
       "    }\n",
       "\n",
       "    .dataframe thead th {\n",
       "        text-align: right;\n",
       "    }\n",
       "</style>\n",
       "<table border=\"1\" class=\"dataframe\">\n",
       "  <thead>\n",
       "    <tr style=\"text-align: right;\">\n",
       "      <th></th>\n",
       "      <th>start</th>\n",
       "      <th>ende</th>\n",
       "      <th>duration[min]</th>\n",
       "      <th>room_val[m3]</th>\n",
       "      <th>amount</th>\n",
       "      <th>activity_name</th>\n",
       "      <th>activity_level</th>\n",
       "      <th>air_exchange_rate</th>\n",
       "      <th>air_exchange_name</th>\n",
       "      <th>co2_concentration[ppm]</th>\n",
       "    </tr>\n",
       "  </thead>\n",
       "  <tbody>\n",
       "    <tr>\n",
       "      <th>0</th>\n",
       "      <td>08:00</td>\n",
       "      <td>08:01</td>\n",
       "      <td>0</td>\n",
       "      <td>200</td>\n",
       "      <td>25</td>\n",
       "      <td>exam</td>\n",
       "      <td>4.8</td>\n",
       "      <td>1</td>\n",
       "      <td>1 von 3 gekippt</td>\n",
       "      <td>600.000000</td>\n",
       "    </tr>\n",
       "    <tr>\n",
       "      <th>1</th>\n",
       "      <td>08:01</td>\n",
       "      <td>08:02</td>\n",
       "      <td>1</td>\n",
       "      <td>200</td>\n",
       "      <td>25</td>\n",
       "      <td>exam</td>\n",
       "      <td>4.8</td>\n",
       "      <td>1</td>\n",
       "      <td>1 von 3 gekippt</td>\n",
       "      <td>775.497806</td>\n",
       "    </tr>\n",
       "    <tr>\n",
       "      <th>2</th>\n",
       "      <td>08:02</td>\n",
       "      <td>08:03</td>\n",
       "      <td>2</td>\n",
       "      <td>200</td>\n",
       "      <td>25</td>\n",
       "      <td>exam</td>\n",
       "      <td>4.8</td>\n",
       "      <td>1</td>\n",
       "      <td>1 von 3 gekippt</td>\n",
       "      <td>948.094887</td>\n",
       "    </tr>\n",
       "    <tr>\n",
       "      <th>3</th>\n",
       "      <td>08:03</td>\n",
       "      <td>08:04</td>\n",
       "      <td>3</td>\n",
       "      <td>200</td>\n",
       "      <td>25</td>\n",
       "      <td>exam</td>\n",
       "      <td>4.8</td>\n",
       "      <td>1</td>\n",
       "      <td>1 von 3 gekippt</td>\n",
       "      <td>1117.839191</td>\n",
       "    </tr>\n",
       "    <tr>\n",
       "      <th>4</th>\n",
       "      <td>08:04</td>\n",
       "      <td>08:05</td>\n",
       "      <td>4</td>\n",
       "      <td>200</td>\n",
       "      <td>25</td>\n",
       "      <td>exam</td>\n",
       "      <td>4.8</td>\n",
       "      <td>1</td>\n",
       "      <td>1 von 3 gekippt</td>\n",
       "      <td>1284.777867</td>\n",
       "    </tr>\n",
       "  </tbody>\n",
       "</table>\n",
       "</div>"
      ],
      "text/plain": [
       "  start    ende  duration[min]  room_val[m3]  amount activity_name  \\\n",
       "0  08:00  08:01              0           200      25          exam   \n",
       "1  08:01  08:02              1           200      25          exam   \n",
       "2  08:02  08:03              2           200      25          exam   \n",
       "3  08:03  08:04              3           200      25          exam   \n",
       "4  08:04  08:05              4           200      25          exam   \n",
       "\n",
       "   activity_level  air_exchange_rate air_exchange_name  co2_concentration[ppm]  \n",
       "0             4.8                  1  1 von 3 gekippt               600.000000  \n",
       "1             4.8                  1  1 von 3 gekippt               775.497806  \n",
       "2             4.8                  1  1 von 3 gekippt               948.094887  \n",
       "3             4.8                  1  1 von 3 gekippt              1117.839191  \n",
       "4             4.8                  1  1 von 3 gekippt              1284.777867  "
      ]
     },
     "execution_count": 12,
     "metadata": {},
     "output_type": "execute_result"
    }
   ],
   "source": [
    "D8.head()"
   ]
  },
  {
   "cell_type": "markdown",
   "metadata": {},
   "source": [
    "## Case 9 : Groupwork + Alle Fenster gekippt"
   ]
  },
  {
   "cell_type": "code",
   "execution_count": 13,
   "metadata": {},
   "outputs": [
    {
     "data": {
      "text/html": [
       "<div>\n",
       "<style scoped>\n",
       "    .dataframe tbody tr th:only-of-type {\n",
       "        vertical-align: middle;\n",
       "    }\n",
       "\n",
       "    .dataframe tbody tr th {\n",
       "        vertical-align: top;\n",
       "    }\n",
       "\n",
       "    .dataframe thead th {\n",
       "        text-align: right;\n",
       "    }\n",
       "</style>\n",
       "<table border=\"1\" class=\"dataframe\">\n",
       "  <thead>\n",
       "    <tr style=\"text-align: right;\">\n",
       "      <th></th>\n",
       "      <th>start</th>\n",
       "      <th>ende</th>\n",
       "      <th>duration[min]</th>\n",
       "      <th>room_val[m3]</th>\n",
       "      <th>amount</th>\n",
       "      <th>activity_name</th>\n",
       "      <th>activity_level</th>\n",
       "      <th>air_exchange_rate</th>\n",
       "      <th>air_exchange_name</th>\n",
       "      <th>co2_concentration[ppm]</th>\n",
       "    </tr>\n",
       "  </thead>\n",
       "  <tbody>\n",
       "    <tr>\n",
       "      <th>0</th>\n",
       "      <td>08:00</td>\n",
       "      <td>08:01</td>\n",
       "      <td>0</td>\n",
       "      <td>200</td>\n",
       "      <td>25</td>\n",
       "      <td>exam</td>\n",
       "      <td>4.8</td>\n",
       "      <td>2</td>\n",
       "      <td>Alle Fenster gekippt</td>\n",
       "      <td>600.000000</td>\n",
       "    </tr>\n",
       "    <tr>\n",
       "      <th>1</th>\n",
       "      <td>08:01</td>\n",
       "      <td>08:02</td>\n",
       "      <td>1</td>\n",
       "      <td>200</td>\n",
       "      <td>25</td>\n",
       "      <td>exam</td>\n",
       "      <td>4.8</td>\n",
       "      <td>2</td>\n",
       "      <td>Alle Fenster gekippt</td>\n",
       "      <td>770.769054</td>\n",
       "    </tr>\n",
       "    <tr>\n",
       "      <th>2</th>\n",
       "      <td>08:02</td>\n",
       "      <td>08:03</td>\n",
       "      <td>2</td>\n",
       "      <td>200</td>\n",
       "      <td>25</td>\n",
       "      <td>exam</td>\n",
       "      <td>4.8</td>\n",
       "      <td>2</td>\n",
       "      <td>Alle Fenster gekippt</td>\n",
       "      <td>935.939632</td>\n",
       "    </tr>\n",
       "    <tr>\n",
       "      <th>3</th>\n",
       "      <td>08:03</td>\n",
       "      <td>08:04</td>\n",
       "      <td>3</td>\n",
       "      <td>200</td>\n",
       "      <td>25</td>\n",
       "      <td>exam</td>\n",
       "      <td>4.8</td>\n",
       "      <td>2</td>\n",
       "      <td>Alle Fenster gekippt</td>\n",
       "      <td>1095.695275</td>\n",
       "    </tr>\n",
       "    <tr>\n",
       "      <th>4</th>\n",
       "      <td>08:04</td>\n",
       "      <td>08:05</td>\n",
       "      <td>4</td>\n",
       "      <td>200</td>\n",
       "      <td>25</td>\n",
       "      <td>exam</td>\n",
       "      <td>4.8</td>\n",
       "      <td>2</td>\n",
       "      <td>Alle Fenster gekippt</td>\n",
       "      <td>1250.213504</td>\n",
       "    </tr>\n",
       "  </tbody>\n",
       "</table>\n",
       "</div>"
      ],
      "text/plain": [
       "  start    ende  duration[min]  room_val[m3]  amount activity_name  \\\n",
       "0  08:00  08:01              0           200      25          exam   \n",
       "1  08:01  08:02              1           200      25          exam   \n",
       "2  08:02  08:03              2           200      25          exam   \n",
       "3  08:03  08:04              3           200      25          exam   \n",
       "4  08:04  08:05              4           200      25          exam   \n",
       "\n",
       "   activity_level  air_exchange_rate     air_exchange_name  \\\n",
       "0             4.8                  2  Alle Fenster gekippt   \n",
       "1             4.8                  2  Alle Fenster gekippt   \n",
       "2             4.8                  2  Alle Fenster gekippt   \n",
       "3             4.8                  2  Alle Fenster gekippt   \n",
       "4             4.8                  2  Alle Fenster gekippt   \n",
       "\n",
       "   co2_concentration[ppm]  \n",
       "0              600.000000  \n",
       "1              770.769054  \n",
       "2              935.939632  \n",
       "3             1095.695275  \n",
       "4             1250.213504  "
      ]
     },
     "execution_count": 13,
     "metadata": {},
     "output_type": "execute_result"
    }
   ],
   "source": [
    "D9.head()"
   ]
  },
  {
   "cell_type": "markdown",
   "metadata": {},
   "source": [
    "# D10-D18 follow the same data structure and contains different values in the room_val and the amount of people\n"
   ]
  },
  {
   "cell_type": "code",
   "execution_count": null,
   "metadata": {},
   "outputs": [],
   "source": []
  },
  {
   "cell_type": "markdown",
   "metadata": {},
   "source": [
    "## Merge Data + Type into Numeric Values"
   ]
  },
  {
   "cell_type": "code",
   "execution_count": 14,
   "metadata": {},
   "outputs": [],
   "source": [
    "data_frames = [D1,D2,D3,D4,D5,D6,D7,D8,D9,D10, D11, D12,D13,D14,D15,D16,D17,D18]"
   ]
  },
  {
   "cell_type": "code",
   "execution_count": 15,
   "metadata": {},
   "outputs": [
    {
     "data": {
      "text/plain": [
       "Index(['start ', 'ende', 'duration[min]', 'room_val[m3]', 'amount',\n",
       "       'activity_name', 'activity_level', 'air_exchange_rate',\n",
       "       'air_exchange_name', 'co2_concentration[ppm]'],\n",
       "      dtype='object')"
      ]
     },
     "execution_count": 15,
     "metadata": {},
     "output_type": "execute_result"
    }
   ],
   "source": [
    "D1.columns"
   ]
  },
  {
   "cell_type": "code",
   "execution_count": 16,
   "metadata": {},
   "outputs": [],
   "source": [
    "for df in data_frames:\n",
    "    \n",
    "    df.drop(['start ','ende','activity_name','air_exchange_name'], axis=1, inplace=True)#get rid of unnecessary data\n",
    "#result = pd.concat(data_frames, join='inner', axis=0)"
   ]
  },
  {
   "cell_type": "code",
   "execution_count": 17,
   "metadata": {},
   "outputs": [
    {
     "name": "stderr",
     "output_type": "stream",
     "text": [
      "C:\\Users\\AF\\Anaconda3\\lib\\site-packages\\pandas\\core\\reshape\\merge.py:963: UserWarning: You are merging on int and float columns where the float values are not equal to their int representation\n",
      "  'representation', UserWarning)\n",
      "C:\\Users\\AF\\Anaconda3\\lib\\site-packages\\pandas\\core\\reshape\\merge.py:963: UserWarning: You are merging on int and float columns where the float values are not equal to their int representation\n",
      "  'representation', UserWarning)\n",
      "C:\\Users\\AF\\Anaconda3\\lib\\site-packages\\pandas\\core\\reshape\\merge.py:963: UserWarning: You are merging on int and float columns where the float values are not equal to their int representation\n",
      "  'representation', UserWarning)\n",
      "C:\\Users\\AF\\Anaconda3\\lib\\site-packages\\pandas\\core\\reshape\\merge.py:963: UserWarning: You are merging on int and float columns where the float values are not equal to their int representation\n",
      "  'representation', UserWarning)\n",
      "C:\\Users\\AF\\Anaconda3\\lib\\site-packages\\pandas\\core\\reshape\\merge.py:963: UserWarning: You are merging on int and float columns where the float values are not equal to their int representation\n",
      "  'representation', UserWarning)\n",
      "C:\\Users\\AF\\Anaconda3\\lib\\site-packages\\pandas\\core\\reshape\\merge.py:963: UserWarning: You are merging on int and float columns where the float values are not equal to their int representation\n",
      "  'representation', UserWarning)\n",
      "C:\\Users\\AF\\Anaconda3\\lib\\site-packages\\pandas\\core\\reshape\\merge.py:963: UserWarning: You are merging on int and float columns where the float values are not equal to their int representation\n",
      "  'representation', UserWarning)\n",
      "C:\\Users\\AF\\Anaconda3\\lib\\site-packages\\pandas\\core\\reshape\\merge.py:963: UserWarning: You are merging on int and float columns where the float values are not equal to their int representation\n",
      "  'representation', UserWarning)\n",
      "C:\\Users\\AF\\Anaconda3\\lib\\site-packages\\pandas\\core\\reshape\\merge.py:963: UserWarning: You are merging on int and float columns where the float values are not equal to their int representation\n",
      "  'representation', UserWarning)\n",
      "C:\\Users\\AF\\Anaconda3\\lib\\site-packages\\pandas\\core\\reshape\\merge.py:963: UserWarning: You are merging on int and float columns where the float values are not equal to their int representation\n",
      "  'representation', UserWarning)\n",
      "C:\\Users\\AF\\Anaconda3\\lib\\site-packages\\pandas\\core\\reshape\\merge.py:963: UserWarning: You are merging on int and float columns where the float values are not equal to their int representation\n",
      "  'representation', UserWarning)\n",
      "C:\\Users\\AF\\Anaconda3\\lib\\site-packages\\pandas\\core\\reshape\\merge.py:963: UserWarning: You are merging on int and float columns where the float values are not equal to their int representation\n",
      "  'representation', UserWarning)\n",
      "C:\\Users\\AF\\Anaconda3\\lib\\site-packages\\pandas\\core\\reshape\\merge.py:963: UserWarning: You are merging on int and float columns where the float values are not equal to their int representation\n",
      "  'representation', UserWarning)\n",
      "C:\\Users\\AF\\Anaconda3\\lib\\site-packages\\pandas\\core\\reshape\\merge.py:963: UserWarning: You are merging on int and float columns where the float values are not equal to their int representation\n",
      "  'representation', UserWarning)\n",
      "C:\\Users\\AF\\Anaconda3\\lib\\site-packages\\pandas\\core\\reshape\\merge.py:963: UserWarning: You are merging on int and float columns where the float values are not equal to their int representation\n",
      "  'representation', UserWarning)\n"
     ]
    },
    {
     "data": {
      "text/html": [
       "<div>\n",
       "<style scoped>\n",
       "    .dataframe tbody tr th:only-of-type {\n",
       "        vertical-align: middle;\n",
       "    }\n",
       "\n",
       "    .dataframe tbody tr th {\n",
       "        vertical-align: top;\n",
       "    }\n",
       "\n",
       "    .dataframe thead th {\n",
       "        text-align: right;\n",
       "    }\n",
       "</style>\n",
       "<table border=\"1\" class=\"dataframe\">\n",
       "  <thead>\n",
       "    <tr style=\"text-align: right;\">\n",
       "      <th></th>\n",
       "      <th>duration[min]</th>\n",
       "      <th>room_val[m3]</th>\n",
       "      <th>amount</th>\n",
       "      <th>activity_level</th>\n",
       "      <th>air_exchange_rate</th>\n",
       "      <th>co2_concentration[ppm]</th>\n",
       "    </tr>\n",
       "  </thead>\n",
       "  <tbody>\n",
       "    <tr>\n",
       "      <th>0</th>\n",
       "      <td>0</td>\n",
       "      <td>200</td>\n",
       "      <td>25</td>\n",
       "      <td>1.2</td>\n",
       "      <td>0.2</td>\n",
       "      <td>644.372121</td>\n",
       "    </tr>\n",
       "    <tr>\n",
       "      <th>1</th>\n",
       "      <td>1</td>\n",
       "      <td>200</td>\n",
       "      <td>25</td>\n",
       "      <td>1.2</td>\n",
       "      <td>0.2</td>\n",
       "      <td>688.596580</td>\n",
       "    </tr>\n",
       "    <tr>\n",
       "      <th>2</th>\n",
       "      <td>2</td>\n",
       "      <td>200</td>\n",
       "      <td>25</td>\n",
       "      <td>1.2</td>\n",
       "      <td>0.2</td>\n",
       "      <td>732.673871</td>\n",
       "    </tr>\n",
       "    <tr>\n",
       "      <th>3</th>\n",
       "      <td>3</td>\n",
       "      <td>200</td>\n",
       "      <td>25</td>\n",
       "      <td>1.2</td>\n",
       "      <td>0.2</td>\n",
       "      <td>776.604482</td>\n",
       "    </tr>\n",
       "    <tr>\n",
       "      <th>4</th>\n",
       "      <td>4</td>\n",
       "      <td>200</td>\n",
       "      <td>25</td>\n",
       "      <td>1.2</td>\n",
       "      <td>0.2</td>\n",
       "      <td>820.388901</td>\n",
       "    </tr>\n",
       "  </tbody>\n",
       "</table>\n",
       "</div>"
      ],
      "text/plain": [
       "   duration[min]  room_val[m3]  amount  activity_level  air_exchange_rate  \\\n",
       "0              0           200      25             1.2                0.2   \n",
       "1              1           200      25             1.2                0.2   \n",
       "2              2           200      25             1.2                0.2   \n",
       "3              3           200      25             1.2                0.2   \n",
       "4              4           200      25             1.2                0.2   \n",
       "\n",
       "   co2_concentration[ppm]  \n",
       "0              644.372121  \n",
       "1              688.596580  \n",
       "2              732.673871  \n",
       "3              776.604482  \n",
       "4              820.388901  "
      ]
     },
     "execution_count": 17,
     "metadata": {},
     "output_type": "execute_result"
    }
   ],
   "source": [
    "df_merged = reduce(lambda  left,right: pd.merge(left,right,how='outer'), data_frames)\n",
    "\n",
    "df_merged.head()"
   ]
  },
  {
   "cell_type": "code",
   "execution_count": 18,
   "metadata": {},
   "outputs": [
    {
     "data": {
      "text/html": [
       "<div>\n",
       "<style scoped>\n",
       "    .dataframe tbody tr th:only-of-type {\n",
       "        vertical-align: middle;\n",
       "    }\n",
       "\n",
       "    .dataframe tbody tr th {\n",
       "        vertical-align: top;\n",
       "    }\n",
       "\n",
       "    .dataframe thead th {\n",
       "        text-align: right;\n",
       "    }\n",
       "</style>\n",
       "<table border=\"1\" class=\"dataframe\">\n",
       "  <thead>\n",
       "    <tr style=\"text-align: right;\">\n",
       "      <th></th>\n",
       "      <th>duration[min]</th>\n",
       "      <th>room_val[m3]</th>\n",
       "      <th>amount</th>\n",
       "      <th>activity_level</th>\n",
       "      <th>air_exchange_rate</th>\n",
       "      <th>co2_concentration[ppm]</th>\n",
       "    </tr>\n",
       "  </thead>\n",
       "  <tbody>\n",
       "    <tr>\n",
       "      <th>0</th>\n",
       "      <td>20</td>\n",
       "      <td>485</td>\n",
       "      <td>100</td>\n",
       "      <td>4.8</td>\n",
       "      <td>0.2</td>\n",
       "      <td>6139.647661</td>\n",
       "    </tr>\n",
       "    <tr>\n",
       "      <th>1</th>\n",
       "      <td>200</td>\n",
       "      <td>200</td>\n",
       "      <td>25</td>\n",
       "      <td>2.1</td>\n",
       "      <td>0.2</td>\n",
       "      <td>12038.214360</td>\n",
       "    </tr>\n",
       "    <tr>\n",
       "      <th>2</th>\n",
       "      <td>218</td>\n",
       "      <td>200</td>\n",
       "      <td>25</td>\n",
       "      <td>2.1</td>\n",
       "      <td>1.0</td>\n",
       "      <td>5021.424383</td>\n",
       "    </tr>\n",
       "    <tr>\n",
       "      <th>3</th>\n",
       "      <td>6</td>\n",
       "      <td>200</td>\n",
       "      <td>25</td>\n",
       "      <td>1.2</td>\n",
       "      <td>1.0</td>\n",
       "      <td>838.550412</td>\n",
       "    </tr>\n",
       "    <tr>\n",
       "      <th>4</th>\n",
       "      <td>96</td>\n",
       "      <td>85</td>\n",
       "      <td>10</td>\n",
       "      <td>1.2</td>\n",
       "      <td>2.0</td>\n",
       "      <td>1618.796258</td>\n",
       "    </tr>\n",
       "  </tbody>\n",
       "</table>\n",
       "</div>"
      ],
      "text/plain": [
       "   duration[min]  room_val[m3]  amount  activity_level  air_exchange_rate  \\\n",
       "0             20           485     100             4.8                0.2   \n",
       "1            200           200      25             2.1                0.2   \n",
       "2            218           200      25             2.1                1.0   \n",
       "3              6           200      25             1.2                1.0   \n",
       "4             96            85      10             1.2                2.0   \n",
       "\n",
       "   co2_concentration[ppm]  \n",
       "0             6139.647661  \n",
       "1            12038.214360  \n",
       "2             5021.424383  \n",
       "3              838.550412  \n",
       "4             1618.796258  "
      ]
     },
     "execution_count": 18,
     "metadata": {},
     "output_type": "execute_result"
    }
   ],
   "source": [
    "df_final =df_merged.sample(frac=1)\n",
    "df_final.reset_index(drop=True, inplace=True)\n",
    "df_final.head()"
   ]
  },
  {
   "cell_type": "code",
   "execution_count": 19,
   "metadata": {},
   "outputs": [
    {
     "data": {
      "text/plain": [
       "Index(['duration[min]', 'room_val[m3]', 'amount', 'activity_level',\n",
       "       'air_exchange_rate', 'co2_concentration[ppm]'],\n",
       "      dtype='object')"
      ]
     },
     "execution_count": 19,
     "metadata": {},
     "output_type": "execute_result"
    }
   ],
   "source": [
    "df_final.columns"
   ]
  },
  {
   "cell_type": "code",
   "execution_count": null,
   "metadata": {},
   "outputs": [],
   "source": []
  },
  {
   "cell_type": "markdown",
   "metadata": {},
   "source": [
    "# 4 Machine Learning"
   ]
  },
  {
   "cell_type": "markdown",
   "metadata": {},
   "source": [
    "Comment One Hot Encoding!\n",
    "activity_level and air_exchange_rate could be labeled data?"
   ]
  },
  {
   "cell_type": "markdown",
   "metadata": {},
   "source": [
    "## Correlation Analysis"
   ]
  },
  {
   "cell_type": "code",
   "execution_count": 20,
   "metadata": {},
   "outputs": [],
   "source": [
    "displayDataset = df_final\n",
    "def plotCorrelationMatrix(df, graphWidth):\n",
    "    fsize=17\n",
    "    #df = df.dropna('columns') \n",
    "    corr = df.corr()\n",
    "    plt.figure(num=None, figsize=(graphWidth, graphWidth), dpi=80, facecolor='w', edgecolor='k')\n",
    "    corrMat = plt.matshow(corr, fignum = 1)\n",
    "    plt.xticks(range(len(corr.columns)), corr.columns, rotation=90,fontsize=fsize)\n",
    "    plt.yticks(range(len(corr.columns)), corr.columns,fontsize=fsize)\n",
    "    plt.gca().xaxis.tick_bottom()\n",
    "    plt.gcf().autofmt_xdate()\n",
    "    plt.colorbar(corrMat)\n",
    "    plt.title(f'Correlation Matrix',fontsize=(fsize+3))\n",
    "    plt.show()\n",
    "    return corr"
   ]
  },
  {
   "cell_type": "code",
   "execution_count": 21,
   "metadata": {},
   "outputs": [
    {
     "data": {
      "image/png": "[encoded data removed]",
      "text/plain": [
       "<Figure size 800x800 with 2 Axes>"
      ]
     },
     "metadata": {},
     "output_type": "display_data"
    }
   ],
   "source": [
    "cor = plotCorrelationMatrix(displayDataset, 10)"
   ]
  },
  {
   "cell_type": "code",
   "execution_count": 22,
   "metadata": {},
   "outputs": [
    {
     "data": {
      "text/html": [
       "<div>\n",
       "<style scoped>\n",
       "    .dataframe tbody tr th:only-of-type {\n",
       "        vertical-align: middle;\n",
       "    }\n",
       "\n",
       "    .dataframe tbody tr th {\n",
       "        vertical-align: top;\n",
       "    }\n",
       "\n",
       "    .dataframe thead th {\n",
       "        text-align: right;\n",
       "    }\n",
       "</style>\n",
       "<table border=\"1\" class=\"dataframe\">\n",
       "  <thead>\n",
       "    <tr style=\"text-align: right;\">\n",
       "      <th></th>\n",
       "      <th>duration[min]</th>\n",
       "      <th>room_val[m3]</th>\n",
       "      <th>amount</th>\n",
       "      <th>activity_level</th>\n",
       "      <th>air_exchange_rate</th>\n",
       "      <th>co2_concentration[ppm]</th>\n",
       "    </tr>\n",
       "  </thead>\n",
       "  <tbody>\n",
       "    <tr>\n",
       "      <th>duration[min]</th>\n",
       "      <td>1.000000e+00</td>\n",
       "      <td>0.000000e+00</td>\n",
       "      <td>0.000000e+00</td>\n",
       "      <td>2.131197e-18</td>\n",
       "      <td>4.176252e-18</td>\n",
       "      <td>0.324766</td>\n",
       "    </tr>\n",
       "    <tr>\n",
       "      <th>room_val[m3]</th>\n",
       "      <td>0.000000e+00</td>\n",
       "      <td>1.000000e+00</td>\n",
       "      <td>9.722884e-01</td>\n",
       "      <td>6.712828e-01</td>\n",
       "      <td>-3.644128e-16</td>\n",
       "      <td>0.448596</td>\n",
       "    </tr>\n",
       "    <tr>\n",
       "      <th>amount</th>\n",
       "      <td>0.000000e+00</td>\n",
       "      <td>9.722884e-01</td>\n",
       "      <td>1.000000e+00</td>\n",
       "      <td>6.659121e-01</td>\n",
       "      <td>2.589316e-16</td>\n",
       "      <td>0.489317</td>\n",
       "    </tr>\n",
       "    <tr>\n",
       "      <th>activity_level</th>\n",
       "      <td>2.131197e-18</td>\n",
       "      <td>6.712828e-01</td>\n",
       "      <td>6.659121e-01</td>\n",
       "      <td>1.000000e+00</td>\n",
       "      <td>-5.034569e-17</td>\n",
       "      <td>0.533532</td>\n",
       "    </tr>\n",
       "    <tr>\n",
       "      <th>air_exchange_rate</th>\n",
       "      <td>4.176252e-18</td>\n",
       "      <td>-3.644128e-16</td>\n",
       "      <td>2.589316e-16</td>\n",
       "      <td>-5.034569e-17</td>\n",
       "      <td>1.000000e+00</td>\n",
       "      <td>-0.462576</td>\n",
       "    </tr>\n",
       "    <tr>\n",
       "      <th>co2_concentration[ppm]</th>\n",
       "      <td>3.247664e-01</td>\n",
       "      <td>4.485955e-01</td>\n",
       "      <td>4.893173e-01</td>\n",
       "      <td>5.335321e-01</td>\n",
       "      <td>-4.625762e-01</td>\n",
       "      <td>1.000000</td>\n",
       "    </tr>\n",
       "  </tbody>\n",
       "</table>\n",
       "</div>"
      ],
      "text/plain": [
       "                        duration[min]  room_val[m3]        amount  \\\n",
       "duration[min]            1.000000e+00  0.000000e+00  0.000000e+00   \n",
       "room_val[m3]             0.000000e+00  1.000000e+00  9.722884e-01   \n",
       "amount                   0.000000e+00  9.722884e-01  1.000000e+00   \n",
       "activity_level           2.131197e-18  6.712828e-01  6.659121e-01   \n",
       "air_exchange_rate        4.176252e-18 -3.644128e-16  2.589316e-16   \n",
       "co2_concentration[ppm]   3.247664e-01  4.485955e-01  4.893173e-01   \n",
       "\n",
       "                        activity_level  air_exchange_rate  \\\n",
       "duration[min]             2.131197e-18       4.176252e-18   \n",
       "room_val[m3]              6.712828e-01      -3.644128e-16   \n",
       "amount                    6.659121e-01       2.589316e-16   \n",
       "activity_level            1.000000e+00      -5.034569e-17   \n",
       "air_exchange_rate        -5.034569e-17       1.000000e+00   \n",
       "co2_concentration[ppm]    5.335321e-01      -4.625762e-01   \n",
       "\n",
       "                        co2_concentration[ppm]  \n",
       "duration[min]                         0.324766  \n",
       "room_val[m3]                          0.448596  \n",
       "amount                                0.489317  \n",
       "activity_level                        0.533532  \n",
       "air_exchange_rate                    -0.462576  \n",
       "co2_concentration[ppm]                1.000000  "
      ]
     },
     "execution_count": 22,
     "metadata": {},
     "output_type": "execute_result"
    }
   ],
   "source": [
    "cor"
   ]
  },
  {
   "cell_type": "markdown",
   "metadata": {},
   "source": [
    "## Define X and Y for training and testing"
   ]
  },
  {
   "cell_type": "code",
   "execution_count": 23,
   "metadata": {},
   "outputs": [],
   "source": [
    "X = df_final[[\"duration[min]\",'room_val[m3]','amount',\"activity_level\",\"air_exchange_rate\", \"amount\"]].values\n",
    "y = df_final[[\"co2_concentration[ppm]\"]].values"
   ]
  },
  {
   "cell_type": "code",
   "execution_count": 24,
   "metadata": {},
   "outputs": [
    {
     "data": {
      "text/plain": [
       "array([[2.00e+01, 4.85e+02, 1.00e+02, 4.80e+00, 2.00e-01, 1.00e+02],\n",
       "       [2.00e+02, 2.00e+02, 2.50e+01, 2.10e+00, 2.00e-01, 2.50e+01],\n",
       "       [2.18e+02, 2.00e+02, 2.50e+01, 2.10e+00, 1.00e+00, 2.50e+01],\n",
       "       ...,\n",
       "       [2.12e+02, 8.50e+01, 1.00e+01, 1.20e+00, 1.00e+00, 1.00e+01],\n",
       "       [0.00e+00, 2.00e+02, 2.50e+01, 2.10e+00, 1.00e+00, 2.50e+01],\n",
       "       [2.78e+02, 2.00e+02, 2.50e+01, 2.10e+00, 1.00e+00, 2.50e+01]])"
      ]
     },
     "execution_count": 24,
     "metadata": {},
     "output_type": "execute_result"
    }
   ],
   "source": [
    "X"
   ]
  },
  {
   "cell_type": "code",
   "execution_count": 25,
   "metadata": {},
   "outputs": [
    {
     "data": {
      "text/plain": [
       "array([[ 6139.647661],\n",
       "       [12038.21436 ],\n",
       "       [ 5021.424383],\n",
       "       ...,\n",
       "       [ 2866.955325],\n",
       "       [  600.      ],\n",
       "       [ 5097.292167]])"
      ]
     },
     "execution_count": 25,
     "metadata": {},
     "output_type": "execute_result"
    }
   ],
   "source": [
    "y"
   ]
  },
  {
   "cell_type": "markdown",
   "metadata": {},
   "source": [
    "Dividing data into training and testing data"
   ]
  },
  {
   "cell_type": "code",
   "execution_count": 26,
   "metadata": {},
   "outputs": [],
   "source": [
    "X_train, X_test, y_train, y_test = train_test_split(X,y,test_size=0.2, random_state=0)"
   ]
  },
  {
   "cell_type": "markdown",
   "metadata": {},
   "source": [
    "## Linear Regression"
   ]
  },
  {
   "cell_type": "code",
   "execution_count": 27,
   "metadata": {},
   "outputs": [],
   "source": [
    "model = LinearRegression()\n",
    "model.fit(X_train,y_train)\n",
    "y_pred = model.predict(X_test)"
   ]
  },
  {
   "cell_type": "code",
   "execution_count": 28,
   "metadata": {},
   "outputs": [
    {
     "data": {
      "text/plain": [
       "0.6661698537703906"
      ]
     },
     "execution_count": 28,
     "metadata": {},
     "output_type": "execute_result"
    }
   ],
   "source": [
    "model.score(X_test,y_test)"
   ]
  },
  {
   "cell_type": "code",
   "execution_count": 29,
   "metadata": {},
   "outputs": [
    {
     "data": {
      "text/plain": [
       "Text(0.5,1,'Scatter Plot')"
      ]
     },
     "execution_count": 29,
     "metadata": {},
     "output_type": "execute_result"
    },
    {
     "data": {
      "image/png": "[encoded data removed]",
      "text/plain": [
       "<Figure size 432x288 with 1 Axes>"
      ]
     },
     "metadata": {
      "needs_background": "light"
     },
     "output_type": "display_data"
    }
   ],
   "source": [
    "plt.plot(y_pred,y_test,'o', color=colormap[\"0\"])\n",
    "plt.xlabel('Prediction')\n",
    "plt.ylabel('Expected')\n",
    "plt.title('Scatter Plot')"
   ]
  },
  {
   "cell_type": "markdown",
   "metadata": {},
   "source": [
    "# Classification"
   ]
  },
  {
   "cell_type": "markdown",
   "metadata": {},
   "source": [
    "## Decision tree"
   ]
  },
  {
   "cell_type": "code",
   "execution_count": 30,
   "metadata": {},
   "outputs": [
    {
     "data": {
      "text/html": [
       "<div>\n",
       "<style scoped>\n",
       "    .dataframe tbody tr th:only-of-type {\n",
       "        vertical-align: middle;\n",
       "    }\n",
       "\n",
       "    .dataframe tbody tr th {\n",
       "        vertical-align: top;\n",
       "    }\n",
       "\n",
       "    .dataframe thead th {\n",
       "        text-align: right;\n",
       "    }\n",
       "</style>\n",
       "<table border=\"1\" class=\"dataframe\">\n",
       "  <thead>\n",
       "    <tr style=\"text-align: right;\">\n",
       "      <th></th>\n",
       "      <th>duration[min]</th>\n",
       "      <th>room_val[m3]</th>\n",
       "      <th>amount</th>\n",
       "      <th>activity_level</th>\n",
       "      <th>air_exchange_rate</th>\n",
       "      <th>co2_concentration[ppm]</th>\n",
       "    </tr>\n",
       "  </thead>\n",
       "  <tbody>\n",
       "    <tr>\n",
       "      <th>0</th>\n",
       "      <td>20</td>\n",
       "      <td>485</td>\n",
       "      <td>100</td>\n",
       "      <td>4.8</td>\n",
       "      <td>0.2</td>\n",
       "      <td>6139.647661</td>\n",
       "    </tr>\n",
       "    <tr>\n",
       "      <th>1</th>\n",
       "      <td>200</td>\n",
       "      <td>200</td>\n",
       "      <td>25</td>\n",
       "      <td>2.1</td>\n",
       "      <td>0.2</td>\n",
       "      <td>12038.214360</td>\n",
       "    </tr>\n",
       "    <tr>\n",
       "      <th>2</th>\n",
       "      <td>218</td>\n",
       "      <td>200</td>\n",
       "      <td>25</td>\n",
       "      <td>2.1</td>\n",
       "      <td>1.0</td>\n",
       "      <td>5021.424383</td>\n",
       "    </tr>\n",
       "    <tr>\n",
       "      <th>3</th>\n",
       "      <td>6</td>\n",
       "      <td>200</td>\n",
       "      <td>25</td>\n",
       "      <td>1.2</td>\n",
       "      <td>1.0</td>\n",
       "      <td>838.550412</td>\n",
       "    </tr>\n",
       "    <tr>\n",
       "      <th>4</th>\n",
       "      <td>96</td>\n",
       "      <td>85</td>\n",
       "      <td>10</td>\n",
       "      <td>1.2</td>\n",
       "      <td>2.0</td>\n",
       "      <td>1618.796258</td>\n",
       "    </tr>\n",
       "  </tbody>\n",
       "</table>\n",
       "</div>"
      ],
      "text/plain": [
       "   duration[min]  room_val[m3]  amount  activity_level  air_exchange_rate  \\\n",
       "0             20           485     100             4.8                0.2   \n",
       "1            200           200      25             2.1                0.2   \n",
       "2            218           200      25             2.1                1.0   \n",
       "3              6           200      25             1.2                1.0   \n",
       "4             96            85      10             1.2                2.0   \n",
       "\n",
       "   co2_concentration[ppm]  \n",
       "0             6139.647661  \n",
       "1            12038.214360  \n",
       "2             5021.424383  \n",
       "3              838.550412  \n",
       "4             1618.796258  "
      ]
     },
     "execution_count": 30,
     "metadata": {},
     "output_type": "execute_result"
    }
   ],
   "source": [
    "df_classification  = df_final\n",
    "df_classification.head()"
   ]
  },
  {
   "cell_type": "code",
   "execution_count": 31,
   "metadata": {},
   "outputs": [],
   "source": [
    "length_df = len(df_final[\"duration[min]\"])\n",
    "categories = []\n",
    "categories_indoorAirQuality ={ #see documentation Category of Indoor Air ID1 - ID4\n",
    "    \"ID1\": \"high\", #CO2: <= 800 ppm\n",
    "    \"ID2\": \"medium\", #CO2: >800-1000 ppm\n",
    "    \"ID3\": \"moderate\",#CO2: > 1000 - 1400 ppm\n",
    "    \"ID4\":\"low\"#CO2: >1400 ppm\n",
    "}\n",
    "\n",
    "for x in range(length_df):\n",
    "    if (df_final[\"co2_concentration[ppm]\"][x] <= 800.00):\n",
    "        categories.append(categories_indoorAirQuality.get(\"ID1\"))\n",
    "        \n",
    "    elif (df_final[\"co2_concentration[ppm]\"][x] <=1000.00):\n",
    "        categories.append(categories_indoorAirQuality.get(\"ID2\"))\n",
    "        \n",
    "    elif (df_final[\"co2_concentration[ppm]\"][x] <= 1400):\n",
    "        categories.append(categories_indoorAirQuality.get(\"ID3\"))\n",
    "        \n",
    "    else:\n",
    "        categories.append(categories_indoorAirQuality.get(\"ID4\"))\n",
    "    \n"
   ]
  },
  {
   "cell_type": "code",
   "execution_count": 32,
   "metadata": {},
   "outputs": [
    {
     "data": {
      "text/html": [
       "<div>\n",
       "<style scoped>\n",
       "    .dataframe tbody tr th:only-of-type {\n",
       "        vertical-align: middle;\n",
       "    }\n",
       "\n",
       "    .dataframe tbody tr th {\n",
       "        vertical-align: top;\n",
       "    }\n",
       "\n",
       "    .dataframe thead th {\n",
       "        text-align: right;\n",
       "    }\n",
       "</style>\n",
       "<table border=\"1\" class=\"dataframe\">\n",
       "  <thead>\n",
       "    <tr style=\"text-align: right;\">\n",
       "      <th></th>\n",
       "      <th>duration[min]</th>\n",
       "      <th>room_val[m3]</th>\n",
       "      <th>amount</th>\n",
       "      <th>activity_level</th>\n",
       "      <th>air_exchange_rate</th>\n",
       "      <th>co2_concentration[ppm]</th>\n",
       "      <th>indoor_air_quality</th>\n",
       "    </tr>\n",
       "  </thead>\n",
       "  <tbody>\n",
       "    <tr>\n",
       "      <th>0</th>\n",
       "      <td>20</td>\n",
       "      <td>485</td>\n",
       "      <td>100</td>\n",
       "      <td>4.8</td>\n",
       "      <td>0.2</td>\n",
       "      <td>6139.647661</td>\n",
       "      <td>low</td>\n",
       "    </tr>\n",
       "    <tr>\n",
       "      <th>1</th>\n",
       "      <td>200</td>\n",
       "      <td>200</td>\n",
       "      <td>25</td>\n",
       "      <td>2.1</td>\n",
       "      <td>0.2</td>\n",
       "      <td>12038.214360</td>\n",
       "      <td>low</td>\n",
       "    </tr>\n",
       "    <tr>\n",
       "      <th>2</th>\n",
       "      <td>218</td>\n",
       "      <td>200</td>\n",
       "      <td>25</td>\n",
       "      <td>2.1</td>\n",
       "      <td>1.0</td>\n",
       "      <td>5021.424383</td>\n",
       "      <td>low</td>\n",
       "    </tr>\n",
       "    <tr>\n",
       "      <th>3</th>\n",
       "      <td>6</td>\n",
       "      <td>200</td>\n",
       "      <td>25</td>\n",
       "      <td>1.2</td>\n",
       "      <td>1.0</td>\n",
       "      <td>838.550412</td>\n",
       "      <td>medium</td>\n",
       "    </tr>\n",
       "    <tr>\n",
       "      <th>4</th>\n",
       "      <td>96</td>\n",
       "      <td>85</td>\n",
       "      <td>10</td>\n",
       "      <td>1.2</td>\n",
       "      <td>2.0</td>\n",
       "      <td>1618.796258</td>\n",
       "      <td>low</td>\n",
       "    </tr>\n",
       "  </tbody>\n",
       "</table>\n",
       "</div>"
      ],
      "text/plain": [
       "   duration[min]  room_val[m3]  amount  activity_level  air_exchange_rate  \\\n",
       "0             20           485     100             4.8                0.2   \n",
       "1            200           200      25             2.1                0.2   \n",
       "2            218           200      25             2.1                1.0   \n",
       "3              6           200      25             1.2                1.0   \n",
       "4             96            85      10             1.2                2.0   \n",
       "\n",
       "   co2_concentration[ppm] indoor_air_quality  \n",
       "0             6139.647661                low  \n",
       "1            12038.214360                low  \n",
       "2             5021.424383                low  \n",
       "3              838.550412             medium  \n",
       "4             1618.796258                low  "
      ]
     },
     "execution_count": 32,
     "metadata": {},
     "output_type": "execute_result"
    }
   ],
   "source": [
    "df_final.insert(6, \"indoor_air_quality\",categories ,True) \n",
    "df_final.head()"
   ]
  },
  {
   "cell_type": "code",
   "execution_count": 33,
   "metadata": {},
   "outputs": [],
   "source": [
    "df_final=df_final.sample(frac=1)"
   ]
  },
  {
   "cell_type": "code",
   "execution_count": 34,
   "metadata": {},
   "outputs": [
    {
     "data": {
      "text/plain": [
       "(array(['high', 'low', 'medium', 'moderate'], dtype=object),\n",
       " array([  81, 5146,   56,  135], dtype=int64))"
      ]
     },
     "execution_count": 34,
     "metadata": {},
     "output_type": "execute_result"
    }
   ],
   "source": [
    "array1= df_final[[\"indoor_air_quality\"]].values\n",
    "np.unique(array1, return_counts = True)"
   ]
  },
  {
   "cell_type": "code",
   "execution_count": 35,
   "metadata": {},
   "outputs": [],
   "source": [
    "X = df_final[[\"duration[min]\",'room_val[m3]','amount',\"activity_level\",\"air_exchange_rate\", \"amount\",\"co2_concentration[ppm]\"]].values\n",
    "\n",
    "y = df_final[[\"indoor_air_quality\"]].values"
   ]
  },
  {
   "cell_type": "code",
   "execution_count": 36,
   "metadata": {},
   "outputs": [],
   "source": [
    "X_train, X_test, y_train, y_test = train_test_split(X, y, random_state = 0) "
   ]
  },
  {
   "cell_type": "code",
   "execution_count": 37,
   "metadata": {},
   "outputs": [],
   "source": [
    "decision_tree_model = DecisionTreeClassifier(max_depth = 2).fit(X_train, y_train) \n",
    "decision_tree_predictions = decision_tree_model.predict(X_test) \n",
    "confusionMatrix = confusion_matrix(y_test, decision_tree_predictions) "
   ]
  },
  {
   "cell_type": "code",
   "execution_count": 38,
   "metadata": {},
   "outputs": [
    {
     "data": {
      "text/plain": [
       "0.988929889298893"
      ]
     },
     "execution_count": 38,
     "metadata": {},
     "output_type": "execute_result"
    }
   ],
   "source": [
    "decision_tree_model.score(X_test,y_test)"
   ]
  },
  {
   "cell_type": "markdown",
   "metadata": {},
   "source": [
    "# 5 Simulation"
   ]
  },
  {
   "cell_type": "code",
   "execution_count": null,
   "metadata": {},
   "outputs": [],
   "source": []
  }
 ],
 "metadata": {
  "kernelspec": {
   "display_name": "Python 3",
   "language": "python",
   "name": "python3"
  },
  "language_info": {
   "codemirror_mode": {
    "name": "ipython",
    "version": 3
   },
   "file_extension": ".py",
   "mimetype": "text/x-python",
   "name": "python",
   "nbconvert_exporter": "python",
   "pygments_lexer": "ipython3",
   "version": "3.7.0"
  }
 },
 "nbformat": 4,
 "nbformat_minor": 4
}
